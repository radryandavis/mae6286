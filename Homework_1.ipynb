{
 "cells": [
  {
   "cell_type": "code",
   "execution_count": 67,
   "metadata": {
    "collapsed": true
   },
   "outputs": [],
   "source": [
    "import numpy"
   ]
  },
  {
   "cell_type": "code",
   "execution_count": 68,
   "metadata": {
    "collapsed": true
   },
   "outputs": [],
   "source": [
    "# model parameters:\n",
    "g = 9.81                          # m/s^2     - acceleration due to gravity\n",
    "shell_mass = 50                   # kg        - mass of the rocket shell\n",
    "air_density = 1.091               # kg/m^3    - average air density (assumed constant)\n",
    "radius = 0.5                      # m         - maximum radius of the rocket\n",
    "A = numpy.pi * radius**2          # m^2       - maximum cross sectional area of the rocket\n",
    "exhaust_velocity = 325            # m/s       - velocity of the rocket exhaust\n",
    "drag_coefficient = 0.15           # unitless\n",
    "initial_propellant_mass = 100     # kg        - initial mass of the propellant\n",
    "propellant_mass_burn_rate_0 = 20  # kg/s      - propellant mass burn rate"
   ]
  },
  {
   "cell_type": "code",
   "execution_count": 69,
   "metadata": {
    "collapsed": true
   },
   "outputs": [],
   "source": [
    "def get_propellant_mass(t):\n",
    "    \"\"\"Returns the mass of the remaining propellant.\n",
    "    \n",
    "    Parameters\n",
    "    ----------\n",
    "    t : float\n",
    "        time.\n",
    "    \n",
    "    Returns\n",
    "    -------\n",
    "    propellant_mass : float\n",
    "                      mass of the remaining propellant\n",
    "    \"\"\"\n",
    "    \n",
    "    if t < 5:\n",
    "        propellant_mass = initial_propellant_mass - propellant_mass_burn_rate_0 * t\n",
    "    else:\n",
    "        propellant_mass = initial_propellant_mass - propellant_mass_burn_rate_0 * 5\n",
    "    \n",
    "    return propellant_mass"
   ]
  },
  {
   "cell_type": "code",
   "execution_count": 70,
   "metadata": {
    "collapsed": true
   },
   "outputs": [],
   "source": [
    "def get_propellant_mass_burn_rate(t):\n",
    "    \"\"\"Returns the propellant mass burn rate.\n",
    "    \n",
    "    Parameters\n",
    "    ----------\n",
    "    t : float\n",
    "        time.\n",
    "    \n",
    "    Returns\n",
    "    -------\n",
    "    propellant_mass_burn_rate : float\n",
    "                                propellant mass burn rate\n",
    "    \"\"\"\n",
    "    \n",
    "    if t < 5:\n",
    "        propellant_mass_burn_rate = propellant_mass_burn_rate_0\n",
    "    else:\n",
    "        propellant_mass_burn_rate = 0\n",
    "    \n",
    "    return propellant_mass_burn_rate"
   ]
  },
  {
   "cell_type": "code",
   "execution_count": 71,
   "metadata": {
    "collapsed": true
   },
   "outputs": [],
   "source": [
    "def f(u, t):\n",
    "    \"\"\"Returns the right-hand-side of the rocket system of equations.\n",
    "    \n",
    "    Parameters\n",
    "    ----------\n",
    "    u : array of float\n",
    "        array containing the solution at time n.\n",
    "    t : float\n",
    "        time.\n",
    "    \n",
    "    Returns\n",
    "    -------\n",
    "    u_prime : array of float\n",
    "              array containing the RHS given u, t.\n",
    "    \"\"\"\n",
    "    \n",
    "    v = u[1]\n",
    "    \n",
    "    propellant_mass = get_propellant_mass(t)\n",
    "    propellant_mass_burn_rate = get_propellant_mass_burn_rate(t)\n",
    "    \n",
    "    h_prime = v\n",
    "    \n",
    "    v_prime = ( -(shell_mass + propellant_mass) * g + \\\n",
    "                propellant_mass_burn_rate * exhaust_velocity - \\\n",
    "                (1/2) * air_density * v * abs(v) * A * drag_coefficient ) / \\\n",
    "              (shell_mass + propellant_mass)\n",
    "    \n",
    "    u_prime = numpy.array([h_prime, v_prime])\n",
    "    \n",
    "    return u_prime"
   ]
  },
  {
   "cell_type": "code",
   "execution_count": 72,
   "metadata": {
    "collapsed": true
   },
   "outputs": [],
   "source": [
    "def euler_step(u, f, t, dt):\n",
    "    \"\"\"Returns the solution at the next time-step using Euler's method.\n",
    "    \n",
    "    Parameters\n",
    "    ----------\n",
    "    u : array of float\n",
    "        solution at the previous time-step.\n",
    "    f : function\n",
    "        function to compute the right-hand-side of the system of equations.\n",
    "    t : float\n",
    "        time.\n",
    "    dt : float\n",
    "         time-increment.\n",
    "    \n",
    "    Returns\n",
    "    -------\n",
    "    u_n_plus_1 : array of float\n",
    "        approximate solution at the next time step.\n",
    "    \"\"\"\n",
    "    \n",
    "    return u + dt * f(u, t)"
   ]
  },
  {
   "cell_type": "code",
   "execution_count": 73,
   "metadata": {
    "collapsed": true
   },
   "outputs": [],
   "source": [
    "# time parameters\n",
    "initial_t = 0.0\n",
    "dt = 0.1\n",
    "t_max = 1000.0\n",
    "\n",
    "# initial conditions\n",
    "initial_h = 0.0\n",
    "initial_v = 0.0\n",
    "\n",
    "initial_u = numpy.array([initial_h, initial_v])\n",
    "\n",
    "t_list = [initial_t,]\n",
    "h_list = [initial_h,]\n",
    "v_list = [initial_v,]"
   ]
  },
  {
   "cell_type": "code",
   "execution_count": 74,
   "metadata": {
    "collapsed": true
   },
   "outputs": [],
   "source": [
    "t = initial_t\n",
    "u = initial_u\n",
    "\n",
    "counter = 0\n",
    "\n",
    "while True:\n",
    "    counter = counter + 1\n",
    "    # t_next = t + dt\n",
    "    # floating point arithmetic sensitivity\n",
    "    # 0.1 + 0.1 + ... + 0.1 ~= 1.0\n",
    "    t_next = initial_t + counter * dt\n",
    "    \n",
    "    if t_next > t_max:\n",
    "        break\n",
    "    \n",
    "    u_next = euler_step(u, f, t, dt)\n",
    "    h_next = u_next[0]\n",
    "    v_next = u_next[1]\n",
    "    \n",
    "    if h_next < 0:\n",
    "        break\n",
    "    \n",
    "    t_list.append(t_next)\n",
    "    h_list.append(h_next)\n",
    "    v_list.append(v_next)\n",
    "    \n",
    "    t = t_next\n",
    "    u = u_next"
   ]
  },
  {
   "cell_type": "code",
   "execution_count": 75,
   "metadata": {
    "collapsed": true
   },
   "outputs": [],
   "source": [
    "t_array = numpy.array(t_list)\n",
    "h_array = numpy.array(h_list)\n",
    "v_array = numpy.array(v_list)"
   ]
  },
  {
   "cell_type": "markdown",
   "metadata": {},
   "source": [
    "Question 1:\n",
    "Remaining propellant mass at time t = 3.2s:"
   ]
  },
  {
   "cell_type": "code",
   "execution_count": 76,
   "metadata": {
    "collapsed": false
   },
   "outputs": [
    {
     "name": "stdout",
     "output_type": "stream",
     "text": [
      "Remaining propellant mass at time t = 3.2s: 36.00 kg\n"
     ]
    }
   ],
   "source": [
    "propellant_mass = get_propellant_mass(3.2)\n",
    "print(\"Remaining propellant mass at time t = 3.2s: {:.2f} kg\".format(propellant_mass))"
   ]
  },
  {
   "cell_type": "markdown",
   "metadata": {},
   "source": [
    "Question 2:\n",
    "Maximum speed of the rocket:"
   ]
  },
  {
   "cell_type": "code",
   "execution_count": 77,
   "metadata": {
    "collapsed": false
   },
   "outputs": [
    {
     "name": "stdout",
     "output_type": "stream",
     "text": [
      "Maximum speed: 232.11 m/s\n"
     ]
    }
   ],
   "source": [
    "max_speed = v_array.max()\n",
    "print(\"Maximum speed: {:.2f} m/s\".format(max_speed))"
   ]
  },
  {
   "cell_type": "markdown",
   "metadata": {},
   "source": [
    "Question 3:\n",
    "Time of maximum speed:"
   ]
  },
  {
   "cell_type": "code",
   "execution_count": 78,
   "metadata": {
    "collapsed": false
   },
   "outputs": [
    {
     "name": "stdout",
     "output_type": "stream",
     "text": [
      "Time of maximum speed: 5.00 s\n"
     ]
    }
   ],
   "source": [
    "idx1 = numpy.argmax(v_array)\n",
    "time_of_max_speed = t_array[idx1]\n",
    "print(\"Time of maximum speed: {:.2f} s\".format(time_of_max_speed))"
   ]
  },
  {
   "cell_type": "markdown",
   "metadata": {},
   "source": [
    "Question 4:\n",
    "Altitude at maximum speed:"
   ]
  },
  {
   "cell_type": "code",
   "execution_count": 79,
   "metadata": {
    "collapsed": false
   },
   "outputs": [
    {
     "name": "stdout",
     "output_type": "stream",
     "text": [
      "Altitude at maximum speed: 523.52 m\n"
     ]
    }
   ],
   "source": [
    "altitude_at_maximum_speed = h_array[idx1]\n",
    "print(\"Altitude at maximum speed: {:.2f} m\".format(altitude_at_maximum_speed))"
   ]
  },
  {
   "cell_type": "markdown",
   "metadata": {},
   "source": [
    "Question 5:\n",
    "Maximum altitude:"
   ]
  },
  {
   "cell_type": "code",
   "execution_count": 80,
   "metadata": {
    "collapsed": false
   },
   "outputs": [
    {
     "name": "stdout",
     "output_type": "stream",
     "text": [
      "Maximum altitude: 1334.18 m\n"
     ]
    }
   ],
   "source": [
    "max_altitude = h_array.max()\n",
    "print(\"Maximum altitude: {:.2f} m\".format(max_altitude))"
   ]
  },
  {
   "cell_type": "markdown",
   "metadata": {},
   "source": [
    "Question 6:\n",
    "Time of maximum altitude:"
   ]
  },
  {
   "cell_type": "code",
   "execution_count": 81,
   "metadata": {
    "collapsed": false
   },
   "outputs": [
    {
     "name": "stdout",
     "output_type": "stream",
     "text": [
      "Time of maximum altitude: 15.70 s\n"
     ]
    }
   ],
   "source": [
    "idx2 = numpy.argmax(h_array)\n",
    "time_of_max_altitude = t_array[idx2]\n",
    "print(\"Time of maximum altitude: {:.2f} s\".format(time_of_max_altitude))"
   ]
  },
  {
   "cell_type": "markdown",
   "metadata": {},
   "source": [
    "Question 7:\n",
    "Impact time:"
   ]
  },
  {
   "cell_type": "code",
   "execution_count": 82,
   "metadata": {
    "collapsed": false
   },
   "outputs": [
    {
     "name": "stdout",
     "output_type": "stream",
     "text": [
      "Time of impact: 37.00 s\n"
     ]
    }
   ],
   "source": [
    "impact_time = t_array[-1]\n",
    "print(\"Time of impact: {:.2f} s\".format(impact_time))"
   ]
  },
  {
   "cell_type": "markdown",
   "metadata": {},
   "source": [
    "Question 8:\n",
    "Velocity at impact:"
   ]
  },
  {
   "cell_type": "code",
   "execution_count": 83,
   "metadata": {
    "collapsed": false
   },
   "outputs": [
    {
     "name": "stdout",
     "output_type": "stream",
     "text": [
      "Impact velocity: -85.98 m/s\n"
     ]
    }
   ],
   "source": [
    "impact_velocity = v_array[-1]\n",
    "print(\"Impact velocity: {:.2f} m/s\".format(impact_velocity))"
   ]
  }
 ],
 "metadata": {
  "anaconda-cloud": {},
  "kernelspec": {
   "display_name": "Python [Root]",
   "language": "python",
   "name": "Python [Root]"
  },
  "language_info": {
   "codemirror_mode": {
    "name": "ipython",
    "version": 3
   },
   "file_extension": ".py",
   "mimetype": "text/x-python",
   "name": "python",
   "nbconvert_exporter": "python",
   "pygments_lexer": "ipython3",
   "version": "3.5.2"
  }
 },
 "nbformat": 4,
 "nbformat_minor": 0
}
